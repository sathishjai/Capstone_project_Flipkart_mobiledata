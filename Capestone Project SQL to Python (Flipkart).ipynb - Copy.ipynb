{
 "cells": [
  {
   "cell_type": "markdown",
   "id": "fc20261d-be84-40f9-a641-002cf400bdf3",
   "metadata": {},
   "source": [
    "# __Capestone Project :__\n",
    "#### Getting Data from SQL"
   ]
  },
  {
   "cell_type": "markdown",
   "id": "3b0af98d-aa80-455e-8f2c-fea84c9fc761",
   "metadata": {},
   "source": [
    "#### __Importing Data and Required Packages__"
   ]
  },
  {
   "cell_type": "code",
   "execution_count": 1,
   "id": "a96afb4d-3567-4a23-b750-a852f6f39f4f",
   "metadata": {},
   "outputs": [],
   "source": [
    "import mysql.connector\n",
    "from pymysql import connect\n",
    "from mysql.connector import Error\n",
    "import pandas as pd"
   ]
  },
  {
   "cell_type": "markdown",
   "id": "8692455f-3698-4e45-93db-7d78ef10c8a6",
   "metadata": {},
   "source": [
    "#### __Connecting MySQL Databases to Python__"
   ]
  },
  {
   "cell_type": "code",
   "execution_count": 2,
   "id": "29b00d8f-d880-4789-943f-a2019bd17573",
   "metadata": {},
   "outputs": [
    {
     "name": "stdout",
     "output_type": "stream",
     "text": [
      "('bank',)\n",
      "('coll',)\n",
      "('connected',)\n",
      "('customer',)\n",
      "('customers',)\n",
      "('customers1',)\n",
      "('demo',)\n",
      "('eer',)\n",
      "('flipkart',)\n",
      "('info',)\n",
      "('information_schema',)\n",
      "('kgml',)\n",
      "('my_sql_',)\n",
      "('mysql',)\n",
      "('performance_schema',)\n",
      "('project',)\n",
      "('python_to_sql',)\n",
      "('sakila',)\n",
      "('sales',)\n",
      "('sys',)\n",
      "('upgrad',)\n",
      "('world',)\n"
     ]
    }
   ],
   "source": [
    "# Connecting MySQL Databases to Python and Cursor:\n",
    "db = connect(host = \"localhost\", user = \"root\", password = \"2001\")\n",
    "curs = db.cursor()\n",
    "query = 'show databases'\n",
    "curs.execute(query)\n",
    "db=curs.fetchall()\n",
    "for i in db:\n",
    "    print(i)"
   ]
  },
  {
   "cell_type": "markdown",
   "id": "40e9f852-c6fb-4b3f-b285-ae1b9365df9b",
   "metadata": {},
   "source": [
    "### __Fetching Table from SQL Database__"
   ]
  },
  {
   "cell_type": "code",
   "execution_count": 3,
   "id": "e55d01bb-585b-4b53-880f-3ada9f08fdbd",
   "metadata": {},
   "outputs": [
    {
     "name": "stdout",
     "output_type": "stream",
     "text": [
      "('flipcart_mobile_products',)\n"
     ]
    }
   ],
   "source": [
    "connectivity = connect(host = \"localhost\", user = \"root\", password = \"2001\", database = 'Flipkart')\n",
    "curs = connectivity.cursor()\n",
    "query = 'show tables'\n",
    "curs.execute(query)\n",
    "data = curs.fetchall()\n",
    "for x in data:\n",
    "    print(x)"
   ]
  },
  {
   "cell_type": "code",
   "execution_count": 4,
   "id": "4001f1c7-aa94-4fbf-99f0-2b05b5d85920",
   "metadata": {},
   "outputs": [
    {
     "name": "stdout",
     "output_type": "stream",
     "text": [
      "No.of Rows in Table : 2208\n"
     ]
    }
   ],
   "source": [
    "query = 'select * from flipcart_mobile_products'\n",
    "print('No.of Rows in Table :',curs.execute(query))"
   ]
  },
  {
   "cell_type": "markdown",
   "id": "92f65106-7d68-4661-a619-8b4ec9978120",
   "metadata": {},
   "source": [
    "### __Converting the SQL Data Table to DataFrame using Pandas__"
   ]
  },
  {
   "cell_type": "code",
   "execution_count": 5,
   "id": "dd07799b-9dcd-43cc-8cea-add6dec92410",
   "metadata": {},
   "outputs": [
    {
     "name": "stderr",
     "output_type": "stream",
     "text": [
      "C:\\Users\\sathish\\AppData\\Local\\Temp\\ipykernel_11012\\2733075093.py:2: UserWarning: pandas only supports SQLAlchemy connectable (engine/connection) or database string URI or sqlite3 DBAPI2 connection. Other DBAPI2 objects are not tested. Please consider using SQLAlchemy.\n",
      "  df=pd.read_sql(query,connectivity)\n"
     ]
    }
   ],
   "source": [
    "import pandas as pd\n",
    "df=pd.read_sql(query,connectivity)"
   ]
  },
  {
   "cell_type": "code",
   "execution_count": 6,
   "id": "8fea20d9-a738-469c-bc5b-789c608461e8",
   "metadata": {},
   "outputs": [
    {
     "name": "stdout",
     "output_type": "stream",
     "text": [
      "Flipcart Mobile Products :\n",
      "======================================================================================================================================================\n"
     ]
    },
    {
     "data": {
      "text/html": [
       "<div>\n",
       "<style scoped>\n",
       "    .dataframe tbody tr th:only-of-type {\n",
       "        vertical-align: middle;\n",
       "    }\n",
       "\n",
       "    .dataframe tbody tr th {\n",
       "        vertical-align: top;\n",
       "    }\n",
       "\n",
       "    .dataframe thead th {\n",
       "        text-align: right;\n",
       "    }\n",
       "</style>\n",
       "<table border=\"1\" class=\"dataframe\">\n",
       "  <thead>\n",
       "    <tr style=\"text-align: right;\">\n",
       "      <th></th>\n",
       "      <th>Name</th>\n",
       "      <th>Ratings_Stars</th>\n",
       "      <th>No._of_Ratings_and_Review</th>\n",
       "      <th>Product_Description</th>\n",
       "      <th>Categery</th>\n",
       "      <th>Price</th>\n",
       "      <th>Category</th>\n",
       "    </tr>\n",
       "  </thead>\n",
       "  <tbody>\n",
       "    <tr>\n",
       "      <th>0</th>\n",
       "      <td>OPPO K12x 5G with 45W SUPERVOOC Charger In-The...</td>\n",
       "      <td>4.5</td>\n",
       "      <td>53,821 Ratings&amp;1,665 Reviews</td>\n",
       "      <td>6 GB RAM | 128 GB ROM | Expandable Upto 1 TB16...</td>\n",
       "      <td>Mobile</td>\n",
       "      <td>₹12,999</td>\n",
       "      <td>None</td>\n",
       "    </tr>\n",
       "    <tr>\n",
       "      <th>1</th>\n",
       "      <td>Apple iPhone 15 (Black, 128 GB)</td>\n",
       "      <td>4.6</td>\n",
       "      <td>1,48,842 Ratings&amp;4,803 Reviews</td>\n",
       "      <td>128 GB ROM15.49 cm (6.1 inch) Super Retina XDR...</td>\n",
       "      <td>Mobile</td>\n",
       "      <td>₹58,999</td>\n",
       "      <td>None</td>\n",
       "    </tr>\n",
       "    <tr>\n",
       "      <th>2</th>\n",
       "      <td>Apple iPhone 15 (Pink, 128 GB)</td>\n",
       "      <td>4.6</td>\n",
       "      <td>1,48,842 Ratings&amp;4,803 Reviews</td>\n",
       "      <td>128 GB ROM15.49 cm (6.1 inch) Super Retina XDR...</td>\n",
       "      <td>Mobile</td>\n",
       "      <td>₹58,999</td>\n",
       "      <td>None</td>\n",
       "    </tr>\n",
       "    <tr>\n",
       "      <th>3</th>\n",
       "      <td>Apple iPhone 15 (Green, 128 GB)</td>\n",
       "      <td>4.6</td>\n",
       "      <td>1,48,842 Ratings&amp;4,803 Reviews</td>\n",
       "      <td>128 GB ROM15.49 cm (6.1 inch) Super Retina XDR...</td>\n",
       "      <td>Mobile</td>\n",
       "      <td>₹58,999</td>\n",
       "      <td>None</td>\n",
       "    </tr>\n",
       "    <tr>\n",
       "      <th>4</th>\n",
       "      <td>Apple iPhone 15 (Blue, 128 GB)</td>\n",
       "      <td>4.6</td>\n",
       "      <td>1,48,842 Ratings&amp;4,803 Reviews</td>\n",
       "      <td>128 GB ROM15.49 cm (6.1 inch) Super Retina XDR...</td>\n",
       "      <td>Mobile</td>\n",
       "      <td>₹58,999</td>\n",
       "      <td>None</td>\n",
       "    </tr>\n",
       "    <tr>\n",
       "      <th>...</th>\n",
       "      <td>...</td>\n",
       "      <td>...</td>\n",
       "      <td>...</td>\n",
       "      <td>...</td>\n",
       "      <td>...</td>\n",
       "      <td>...</td>\n",
       "      <td>...</td>\n",
       "    </tr>\n",
       "    <tr>\n",
       "      <th>2203</th>\n",
       "      <td>Acer Aspire 3 Intel Core i3 12th Gen 1215U - (...</td>\n",
       "      <td>4.3</td>\n",
       "      <td>800 Ratings&amp;57 Reviews</td>\n",
       "      <td>Intel Core i3 Processor (12th Gen)8 GB DDR4 RA...</td>\n",
       "      <td>None</td>\n",
       "      <td>₹30,990</td>\n",
       "      <td>Laptop</td>\n",
       "    </tr>\n",
       "    <tr>\n",
       "      <th>2204</th>\n",
       "      <td>MSI Crosshair 16 HX Intel Core i7 14th Gen 147...</td>\n",
       "      <td>N/A</td>\n",
       "      <td>N/A</td>\n",
       "      <td>Intel Core i7 Processor (14th Gen)16 GB DDR5 R...</td>\n",
       "      <td>None</td>\n",
       "      <td>₹1,24,990</td>\n",
       "      <td>Laptop</td>\n",
       "    </tr>\n",
       "    <tr>\n",
       "      <th>2205</th>\n",
       "      <td>Lenovo IdeaPad Slim 1 AMD Ryzen 5 Hexa Core 55...</td>\n",
       "      <td>4.2</td>\n",
       "      <td>4,939 Ratings&amp;450 Reviews</td>\n",
       "      <td>AMD Ryzen 5 Hexa Core Processor8 GB DDR4 RAM64...</td>\n",
       "      <td>None</td>\n",
       "      <td>₹35,490</td>\n",
       "      <td>Laptop</td>\n",
       "    </tr>\n",
       "    <tr>\n",
       "      <th>2206</th>\n",
       "      <td>HP AMD Ryzen 3 Dual Core - (8 GB/256 GB SSD/Wi...</td>\n",
       "      <td>N/A</td>\n",
       "      <td>N/A</td>\n",
       "      <td>AMD Ryzen 3 Dual Core Processor8 GB DDR4 RAMWi...</td>\n",
       "      <td>None</td>\n",
       "      <td>₹31,999</td>\n",
       "      <td>Laptop</td>\n",
       "    </tr>\n",
       "    <tr>\n",
       "      <th>2207</th>\n",
       "      <td>Ultimus Neo Intel Core i3 10th Gen Neo - (8 GB...</td>\n",
       "      <td>4.5</td>\n",
       "      <td>2 Ratings&amp;2 Reviews</td>\n",
       "      <td>Intel Core i3 Processor (10th Gen)8 GB DDR4 RA...</td>\n",
       "      <td>None</td>\n",
       "      <td>₹19,990</td>\n",
       "      <td>Laptop</td>\n",
       "    </tr>\n",
       "  </tbody>\n",
       "</table>\n",
       "<p>2208 rows × 7 columns</p>\n",
       "</div>"
      ],
      "text/plain": [
       "                                                   Name Ratings_Stars  \\\n",
       "0     OPPO K12x 5G with 45W SUPERVOOC Charger In-The...           4.5   \n",
       "1                       Apple iPhone 15 (Black, 128 GB)           4.6   \n",
       "2                        Apple iPhone 15 (Pink, 128 GB)           4.6   \n",
       "3                       Apple iPhone 15 (Green, 128 GB)           4.6   \n",
       "4                        Apple iPhone 15 (Blue, 128 GB)           4.6   \n",
       "...                                                 ...           ...   \n",
       "2203  Acer Aspire 3 Intel Core i3 12th Gen 1215U - (...           4.3   \n",
       "2204  MSI Crosshair 16 HX Intel Core i7 14th Gen 147...           N/A   \n",
       "2205  Lenovo IdeaPad Slim 1 AMD Ryzen 5 Hexa Core 55...           4.2   \n",
       "2206  HP AMD Ryzen 3 Dual Core - (8 GB/256 GB SSD/Wi...           N/A   \n",
       "2207  Ultimus Neo Intel Core i3 10th Gen Neo - (8 GB...           4.5   \n",
       "\n",
       "           No._of_Ratings_and_Review  \\\n",
       "0       53,821 Ratings&1,665 Reviews   \n",
       "1     1,48,842 Ratings&4,803 Reviews   \n",
       "2     1,48,842 Ratings&4,803 Reviews   \n",
       "3     1,48,842 Ratings&4,803 Reviews   \n",
       "4     1,48,842 Ratings&4,803 Reviews   \n",
       "...                              ...   \n",
       "2203          800 Ratings&57 Reviews   \n",
       "2204                             N/A   \n",
       "2205       4,939 Ratings&450 Reviews   \n",
       "2206                             N/A   \n",
       "2207             2 Ratings&2 Reviews   \n",
       "\n",
       "                                    Product_Description Categery      Price  \\\n",
       "0     6 GB RAM | 128 GB ROM | Expandable Upto 1 TB16...   Mobile    ₹12,999   \n",
       "1     128 GB ROM15.49 cm (6.1 inch) Super Retina XDR...   Mobile    ₹58,999   \n",
       "2     128 GB ROM15.49 cm (6.1 inch) Super Retina XDR...   Mobile    ₹58,999   \n",
       "3     128 GB ROM15.49 cm (6.1 inch) Super Retina XDR...   Mobile    ₹58,999   \n",
       "4     128 GB ROM15.49 cm (6.1 inch) Super Retina XDR...   Mobile    ₹58,999   \n",
       "...                                                 ...      ...        ...   \n",
       "2203  Intel Core i3 Processor (12th Gen)8 GB DDR4 RA...     None    ₹30,990   \n",
       "2204  Intel Core i7 Processor (14th Gen)16 GB DDR5 R...     None  ₹1,24,990   \n",
       "2205  AMD Ryzen 5 Hexa Core Processor8 GB DDR4 RAM64...     None    ₹35,490   \n",
       "2206  AMD Ryzen 3 Dual Core Processor8 GB DDR4 RAMWi...     None    ₹31,999   \n",
       "2207  Intel Core i3 Processor (10th Gen)8 GB DDR4 RA...     None    ₹19,990   \n",
       "\n",
       "     Category  \n",
       "0        None  \n",
       "1        None  \n",
       "2        None  \n",
       "3        None  \n",
       "4        None  \n",
       "...       ...  \n",
       "2203   Laptop  \n",
       "2204   Laptop  \n",
       "2205   Laptop  \n",
       "2206   Laptop  \n",
       "2207   Laptop  \n",
       "\n",
       "[2208 rows x 7 columns]"
      ]
     },
     "execution_count": 6,
     "metadata": {},
     "output_type": "execute_result"
    }
   ],
   "source": [
    "print(\"Flipcart Mobile Products :\")\n",
    "print(\"=\"*150)\n",
    "df"
   ]
  },
  {
   "cell_type": "code",
   "execution_count": 7,
   "id": "0cfc8d9a-09b2-45e2-a517-c19382e56fe5",
   "metadata": {},
   "outputs": [],
   "source": [
    "import pandas as pd"
   ]
  },
  {
   "cell_type": "code",
   "execution_count": 8,
   "id": "4138ade4-32ff-4e8e-8e00-83a1be7b2387",
   "metadata": {},
   "outputs": [
    {
     "data": {
      "text/plain": [
       "Name                            0\n",
       "Ratings_Stars                   0\n",
       "No._of_Ratings_and_Review       0\n",
       "Product_Description             0\n",
       "Categery                     2160\n",
       "Price                           0\n",
       "Category                       48\n",
       "dtype: int64"
      ]
     },
     "execution_count": 8,
     "metadata": {},
     "output_type": "execute_result"
    }
   ],
   "source": [
    "df.isnull().sum()"
   ]
  },
  {
   "cell_type": "code",
   "execution_count": 9,
   "id": "cb1cb05b-7541-46a3-9aae-5b0a1554c2c6",
   "metadata": {},
   "outputs": [],
   "source": [
    "# Save the DataFrame to a CSV file\n",
    "df.to_csv('Flipkartdata.csv', index=False)"
   ]
  },
  {
   "cell_type": "code",
   "execution_count": null,
   "id": "0d6b3b11-cf2f-48f2-a3fe-616ccea376dd",
   "metadata": {},
   "outputs": [],
   "source": []
  }
 ],
 "metadata": {
  "kernelspec": {
   "display_name": "Python 3 (ipykernel)",
   "language": "python",
   "name": "python3"
  },
  "language_info": {
   "codemirror_mode": {
    "name": "ipython",
    "version": 3
   },
   "file_extension": ".py",
   "mimetype": "text/x-python",
   "name": "python",
   "nbconvert_exporter": "python",
   "pygments_lexer": "ipython3",
   "version": "3.10.12"
  }
 },
 "nbformat": 4,
 "nbformat_minor": 5
}
